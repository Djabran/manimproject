{
 "cells": [
  {
   "cell_type": "markdown",
   "metadata": {},
   "source": [
    "Topic 3:\n",
    "===\n",
    "\n",
    "Representation $r$ of $G$\n",
    "\n",
    "$r \\to Ar$ $,A \\in G$\n",
    "\n",
    "Dual representation $\\tilde r \\to (A^{-1})^T \\tilde r$ \n",
    "\n",
    "$\\tilde r^T r$ is invariant\n",
    "\n",
    "Then $\\tilde r^T r = (\\tilde r)^T r \\to $ (($A^{-1})^T \\tilde r)^T A r = \\tilde r^T ((A^{-1})^T)^T A r = \\tilde r^T r$\n",
    "\n",
    "How is $\\tilde r$ created?\n"
   ]
  },
  {
   "cell_type": "markdown",
   "metadata": {},
   "source": [
    "We can find a metric $g$ such that $\\tilde r = gr$\n",
    "\n",
    "$g$ can always be represented by a symmetric matrix"
   ]
  },
  {
   "cell_type": "markdown",
   "metadata": {},
   "source": [
    "Then: $\\tilde r^T r = (gr)^Tr = r^T g^T r = r^T g r$"
   ]
  },
  {
   "cell_type": "markdown",
   "metadata": {},
   "source": [
    "Now let's transform $r$ by $A$\n",
    "\n",
    "$\\to (Ar)^T g (Ar) = r^TA^TgAr$\n",
    "\n",
    "$A^TgA=g$"
   ]
  },
  {
   "cell_type": "markdown",
   "metadata": {},
   "source": [
    "You can use $A$ to figure out what $g$ has to be.\n",
    "But you can also go the other way."
   ]
  },
  {
   "cell_type": "markdown",
   "metadata": {},
   "source": [
    "Orthogonality condition:\n",
    "\n",
    "$A^T A = I$\n",
    "\n",
    "This defines the orthogonal group O(3)"
   ]
  },
  {
   "cell_type": "markdown",
   "metadata": {},
   "source": [
    "$\\begin{pmatrix} a & c \\\\ b & d\\end{pmatrix} \\begin{pmatrix} a & b \\\\ c & d\\end{pmatrix} = \\begin{pmatrix} 1 & 0 \\\\ 0 & 1\\end{pmatrix}$"
   ]
  },
  {
   "cell_type": "markdown",
   "metadata": {},
   "source": [
    "$a^2 + c^2 = 1$\n",
    "\n",
    "$ab + cd = 0$\n",
    "\n",
    "$ab + cd = 0$\n",
    "\n",
    "$b^2 + d^2 = 1$"
   ]
  },
  {
   "cell_type": "markdown",
   "metadata": {},
   "source": [
    "$a^2 + b^2 + c^2 + d^2 + ab + cd = 2$"
   ]
  },
  {
   "cell_type": "markdown",
   "metadata": {},
   "source": [
    "Let SO(3) be the elements of O(3) with det $R$ = 1 (which form a subgroup)"
   ]
  },
  {
   "cell_type": "markdown",
   "metadata": {},
   "source": [
    "$\\def\\R{{\\mathbb R}}$\n",
    "Let's use the rotation matrix in $\\R_3$ as example.\n",
    "\n",
    "$R_{yz} =\n",
    "\\begin{pmatrix}\n",
    "1 &     0        &      0      \\\\\n",
    "0 & \\cos \\theta  & \\sin \\theta \\\\\n",
    "0 & -\\sin \\theta & \\cos \\theta\n",
    "\\end{pmatrix}$\n",
    "\n",
    "$R'_{yz} =\n",
    "\\begin{pmatrix}\n",
    "-1 &     0        &      0      \\\\\n",
    "0 & -\\cos \\theta  & \\sin \\theta \\\\\n",
    "0 & -\\sin \\theta & -\\cos \\theta\n",
    "\\end{pmatrix}$\n",
    "\n"
   ]
  },
  {
   "cell_type": "markdown",
   "metadata": {},
   "source": [
    "Both matrices are in O(3), but only $R_{yz}$ has det 1, while $R'_{yz}$ has det -1"
   ]
  },
  {
   "cell_type": "markdown",
   "metadata": {},
   "source": [
    "What if the components of a vector are complex?\n",
    "\n",
    "$v = \\begin{pmatrix}v^1 \\\\ v^2 \\end{pmatrix}$ with $g = \\begin{pmatrix} 1 & 0 \\\\ 0 & 1 \\end{pmatrix}$"
   ]
  },
  {
   "cell_type": "markdown",
   "metadata": {},
   "source": [
    "For the invariant, we use the Hermitian conjugate\n",
    "\n",
    "$\\tilde v^{\\dagger} v=$ const\n",
    "\n",
    "The former orthogonality condition becomes $A^\\dagger A = I$, which is the unitarity condition"
   ]
  },
  {
   "cell_type": "markdown",
   "metadata": {},
   "source": [
    "This represents the group U(2), with SU(2) as the subgroup of U(2) of elements with det 1\n"
   ]
  },
  {
   "cell_type": "code",
   "execution_count": null,
   "metadata": {},
   "outputs": [],
   "source": []
  },
  {
   "cell_type": "markdown",
   "metadata": {},
   "source": [
    "Topic 4:\n",
    "===\n",
    "\n",
    "\n",
    "number of free adjustable parameters:\n",
    "\n",
    "$SO(N) : \\frac12 N(N-1)$\n",
    "\n",
    "$SO(N-M,M) : \\frac12 N(N-1)$\n",
    "\n",
    "$U(N) : N^2$\n",
    "\n",
    "$SU(N) : N^2 -1$\n",
    "\n",
    "$SO(1,3) : 6$, three rotations and three boosts\n",
    "\n",
    "$U(1) : 1$, a photon\n",
    "\n",
    "$SU(2) : 3$, W and Z boson\n",
    "\n",
    "$SU(3) : 8$, gluons\n"
   ]
  },
  {
   "cell_type": "markdown",
   "metadata": {},
   "source": [
    "Topic 5: Derivatives, Velocities, Energy ad Momentum in Special Relativity\n",
    "===\n",
    "\n",
    "Indexed Quantities\n",
    "\n",
    "Tensors - all kinematic and dynamical quantities\n",
    "---\n",
    "\n",
    "$V_\\mu T^{\\mu\\nu}=G^\\nu$\n",
    "\n",
    "\n"
   ]
  },
  {
   "cell_type": "markdown",
   "metadata": {},
   "source": [
    "Contraction of a tensor:\n",
    "    \n",
    "$V_\\mu T^{\\mu\\nu} = G^\\nu$"
   ]
  },
  {
   "cell_type": "markdown",
   "metadata": {},
   "source": [
    "Transform:\n",
    "$\\Lambda^\\mu_{\\mu'}  V_\\mu   \\Lambda^{\\mu'}_\\mu \\Lambda^{\\nu'}_\\nu  T^{\\mu\\nu}$"
   ]
  },
  {
   "cell_type": "markdown",
   "metadata": {},
   "source": [
    "$= V_\\mu  \\Lambda^{\\nu'}_\\nu  T^{\\mu\\nu}$"
   ]
  },
  {
   "cell_type": "markdown",
   "metadata": {},
   "source": [
    "The metric tensor\n",
    "----\n",
    "$g_{\\mu\\nu}$\n",
    "\n",
    "Dual vector:\n",
    "\n",
    "$g_{\\mu\\nu} V^\\nu = V_\\mu$\n"
   ]
  },
  {
   "cell_type": "markdown",
   "metadata": {},
   "source": [
    "The dual of the metric is equal to its inverse\n",
    "\n",
    "$g^{\\mu\\nu} = (g_{\\mu\\nu})^{-1}$"
   ]
  },
  {
   "cell_type": "markdown",
   "metadata": {},
   "source": [
    "$g_{\\mu\\nu} \\rightarrow g_{\\mu'\\nu'} = \\Lambda^\\mu_{\\mu'}\\Lambda^\\nu_{\\nu'} g_{\\mu\\nu}$"
   ]
  },
  {
   "cell_type": "markdown",
   "metadata": {},
   "source": [
    "$G' = \\Lambda^{-1^T} g \\Lambda^{-1}$"
   ]
  },
  {
   "cell_type": "markdown",
   "metadata": {},
   "source": [
    "$\\Lambda^T g' \\Lambda = g$"
   ]
  },
  {
   "cell_type": "markdown",
   "metadata": {},
   "source": [
    "$\\Lambda^T g \\Lambda = g$"
   ]
  },
  {
   "cell_type": "markdown",
   "metadata": {},
   "source": [
    "$g'=g$"
   ]
  },
  {
   "cell_type": "markdown",
   "metadata": {},
   "source": [
    "$\\eta^{\\mu\\nu} = \\eta_{\\mu\\nu} = \\begin{pmatrix} -1 & 0 & 0 & 0 \\\\ 0 & 1 & 0 & 0 \\\\ 0 & 0 & 1 & 0 \\\\ 0 & 0 & 0 & 1 \\end{pmatrix}$"
   ]
  },
  {
   "cell_type": "markdown",
   "metadata": {},
   "source": [
    "The transformations\n",
    "---\n",
    "$\\Lambda^{\\mu'}_\\mu$, $\\Lambda^\\mu_{\\mu'}$"
   ]
  },
  {
   "cell_type": "markdown",
   "metadata": {},
   "source": [
    "$\\eta_{\\mu\\nu} \\eta^{\\nu\\alpha}= \\begin{pmatrix} 1 & 0 & 0 & 0 \\\\ 0 & 1 & 0 & 0 \\\\ 0 & 0 & 1 & 0 \\\\ 0 & 0 & 0 & 1 \\end{pmatrix}$\n",
    "\n",
    "The trace of the metric\n",
    "\n",
    "$\\mathrm{Tr}\\: \\eta = \\eta_{\\mu\\nu}\\eta^{\\nu\\mu} = 4$"
   ]
  }
 ],
 "metadata": {
  "kernelspec": {
   "display_name": "Python 3",
   "language": "python",
   "name": "python3"
  },
  "language_info": {
   "codemirror_mode": {
    "name": "ipython",
    "version": 3
   },
   "file_extension": ".py",
   "mimetype": "text/x-python",
   "name": "python",
   "nbconvert_exporter": "python",
   "pygments_lexer": "ipython3",
   "version": "3.7.4"
  }
 },
 "nbformat": 4,
 "nbformat_minor": 2
}
