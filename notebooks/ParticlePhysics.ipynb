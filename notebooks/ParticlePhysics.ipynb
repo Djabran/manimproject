{
 "cells": [
  {
   "cell_type": "code",
   "execution_count": 2,
   "metadata": {
    "pycharm": {
     "name": "#%%\n"
    }
   },
   "outputs": [
    {
     "data": {
      "text/html": "\n    <script>\n    \n    jQuery(function() {\n        jQuery(\".input\").toggle();\n        });\n    \n    </script>"
     },
     "metadata": {},
     "output_type": "display_data"
    }
   ],
   "source": [
    "import sys\n",
    "sys.path.append(\"..\")\n",
    "from jupytertools import *\n",
    "toggle_code()\n",
    "from sympy import *"
   ]
  },
  {
   "cell_type": "markdown",
   "metadata": {},
   "source": [
    "$\\def\\dx{{\\mathrm d x}} \\def\\dy{{\\mathrm d y}} \\def\\dz{{\\mathrm d z}} \\def\\dt{{\\mathrm d t}} \\def\\ds{{\\mathrm d s}}\n",
    " \\def\\dtau{{\\mathrm d \\tau}}$\n",
    "$\\def\\ss#1{{\\scriptscriptstyle #1}}$\n",
    "$\\def\\Tud#1#2#3{{#1^{#2}_{\\:\\:#3}}}$\n",
    "$\\def\\Tdu#1#2#3{{#1^{\\:\\:#2}_{#3}}}$\n",
    "$\\def\\ddt{{\\frac{\\mathrm d}{\\dt}}}$\n",
    "$\\def\\ppt{{\\frac{\\partial}{\\partial t}}}$\n",
    "$\\def\\pp#1{{\\frac{\\partial}{\\partial{#1}}}}$\n",
    "$\\def\\M#1{{\\begin{pmatrix}#1\\end{pmatrix}}}$\n",
    "$\\def\\R{{\\mathbb R}}$\n",
    "$\\def\\Lagr{{\\mathcal{L}}}$\n",
    "Topic 3:\n",
    "===\n",
    "\n",
    "Representation $r$ of $G$\n",
    "\n",
    "$r \\to Ar$ $,A \\in G$\n",
    "\n",
    "Dual representation $\\tilde r \\to (A^{-1})^T \\tilde r$ \n",
    "\n",
    "$\\tilde r^T r$ is invariant\n",
    "\n",
    "Then $\\tilde r^T r = (\\tilde r)^T r \\to $ (($A^{-1})^T \\tilde r)^T A r = \\tilde r^T ((A^{-1})^T)^T A r = \\tilde r^T r$\n",
    "\n",
    "How is $\\tilde r$ created?\n",
    "\n",
    "We can find a metric $g$ such that $\\tilde r = gr$\n",
    "\n",
    "$g$ can always be represented by a symmetric matrix\n",
    "\n",
    "Then: $\\tilde r^T r = (gr)^Tr = r^T g^T r = r^T g r$\n",
    "\n",
    "Now let's transform $r$ by $A$\n",
    "\n",
    "$\\to (Ar)^T g (Ar) = r^TA^TgAr$\n",
    "\n",
    "$A^TgA=g$\n",
    "\n",
    "You can use $A$ to figure out what $g$ has to be.\n",
    "But you can also go the other way.\n",
    "\n",
    "Orthogonality condition:\n",
    "\n",
    "$A^T A = I$\n",
    "\n",
    "This defines the orthogonal group O(3)\n",
    "\n",
    "$\\M{a & c \\\\ b & d} \\M{a & b \\\\ c & d} = \\M{1 & 0 \\\\ 0 & 1}$\n",
    "\n",
    "$a^2 + c^2 = 1$\n",
    "\n",
    "$ab + cd = 0$\n",
    "\n",
    "$ab + cd = 0$\n",
    "\n",
    "$b^2 + d^2 = 1$\n",
    "\n",
    "$a^2 + b^2 + c^2 + d^2 + ab + cd = 2$\n",
    "\n",
    "Let SO(3) be the elements of O(3) with det $R$ = 1 (which form a subgroup)\n",
    "\n",
    "Let's use the rotation matrix in $\\R_3$ as example.\n",
    "\n",
    "$R_{yz} = \\M{1 & 0 & 0 \\\\ 0 & \\cos \\theta  & \\sin \\theta \\\\ 0 & -\\sin \\theta & \\cos \\theta}$\n",
    "\n",
    "$R'_{yz} = \\M{-1 & 0 & 0 \\\\ 0 & -\\cos \\theta  & \\sin \\theta \\\\ 0 & -\\sin \\theta & -\\cos \\theta}$\n",
    "\n",
    "Both matrices are in O(3), but only $R_{yz}$ has det 1, while $R'_{yz}$ has det -1\n",
    "\n",
    "What if the components of a vector are complex?\n",
    "\n",
    "$v = \\M{v^1 \\\\ v^2}$ with $g = \\M{1 & 0 \\\\ 0 & 1}$\n",
    "\n",
    "For the invariant, we use the Hermitian conjugate\n",
    "\n",
    "$\\tilde v^{\\dagger} v=$ const\n",
    "\n",
    "The former orthogonality condition becomes $A^\\dagger A = I$, which is the unitarity condition\n",
    "\n",
    "This represents the group U(2), with SU(2) as the subgroup of U(2) of elements with det 1"
   ]
  },
  {
   "cell_type": "markdown",
   "metadata": {},
   "source": [
    "Topic 4: Catalog of groups and Special Relativity\n",
    "===\n",
    "\n",
    "number of free adjustable parameters:\n",
    "\n",
    "$SO(N) : \\frac12 N(N-1)$\n",
    "\n",
    "$SO(N-M,M) : \\frac12 N(N-1)$\n",
    "\n",
    "$U(N) : N^2$\n",
    "\n",
    "$SU(N) : N^2 -1$\n",
    "\n",
    "The Lagrangian has to be invariant under all of these:\n",
    "---\n",
    "\n",
    "$SO(1,3) : 6$, three rotations and three boosts (Spacetime symmetry)\n",
    "\n",
    "Internal gauge symmetries:\n",
    "\n",
    "$U(1) : 1$, a photon\n",
    "\n",
    "$SU(2) : 3$, W and Z boson\n",
    "\n",
    "$SU(3) : 8$, gluons\n",
    "\n",
    "A quark is a spinor of SO(1,3), a vector of SU(2), a vector of SU(3), a vector of U(1).\n",
    "\n",
    "$W^+$ is a vector of SO(1,3), a singlet of SU(3), an adjoint of SU(2), a vector of U(1).\n",
    "\n",
    "The Matrices for Special Relativity:\n",
    "------------------\n",
    "\n",
    "$dx =\n",
    "\\M{c \\mathrm d t \\\\ \\dx \\\\ \\dy \\\\ \\dz}$\n",
    "\n",
    "Rotation:\n",
    "\n",
    "$\\Lambda_{yz}(\\theta) = \\M{\n",
    "1 & 0 & 0 & 0 \\\\\n",
    "0 & 1 & 0 & 0 \\\\\n",
    "0 & 0 & \\cos \\theta & \\sin \\theta \\\\\n",
    "0 & 0 & -\\sin \\theta & \\cos \\theta}$\n",
    "\n",
    "Boost (we choose to represent it without $\\sinh$ and $\\cosh$):\n",
    "\n",
    "$\\Lambda_{xt}(\\beta=\\frac{v}{c}) = $\n",
    "$\\M{\\gamma & -\\beta \\gamma & 0 & 0 \\\\ -\\beta \\gamma & \\gamma & 0 & 0 \\\\ 0 & 0 & 1 & 0 \\\\ 0 & 0 & 0 & 1 }, \\gamma=\\frac{1}{\\sqrt{1-\\beta^2}}$\n",
    "\n",
    "$\\Rightarrow \\Lambda^T_{yz} g \\Lambda_{yz} = g$\n",
    "\n",
    "Consider the origin of a frame S\n",
    "\n",
    "If we are in the frame S, the origin does not move, but it moves in time.\n",
    "\n",
    "$\\dx, \\dy, \\dz = 0$\n",
    "\n",
    "$\\M{c \\dt \\\\ 0 \\\\ 0 \\\\ 0} \\rightarrow$\n",
    "$\\M{\\gamma & -\\beta \\gamma & 0 & 0 \\\\ -\\beta \\gamma & \\gamma & 0 & 0 \\\\ 0 & 0 & 1 & 0 \\\\ 0 & 0 & 0 & 1}$\n",
    "$\\M{c \\dt \\\\ 0 \\\\ 0 \\\\ 0} = \\M{\\gamma c \\dt \\\\ -\\beta \\gamma c \\dt \\\\ 0 \\\\ 0} = \\M{c \\dt' \\\\ \\dx' \\\\ \\dy' \\\\ \\dz'}$\n",
    "\n",
    "In $S'$: $\\dx' = -\\beta \\gamma c \\dt = - \\beta c \\dt' = - v \\dt'$\n",
    "\n",
    "This basically means that the origin in the primed frame moves in the opposite direction.\n",
    "\n",
    "Tensors\n",
    "-----\n",
    "\n",
    "To build an invariant we use $\\tilde r^T r$ where $\\tilde r = g r$\n",
    "\n",
    "Vectors: $V^\\mu \\in r$ and dual vectors: $V_\\mu \\in \\tilde r^T$\n",
    "\n",
    "$V_\\mu = \\M{v^0 \\\\ v^1 \\\\ v^2 \\\\ v^3} = \\left( g_{\\mu\\nu} V^\\nu \\right)^T = \\M{-v^0 & v^1 & v^2 & v^3}$\n",
    "\n",
    "$= \\M{v_0 & v_1 & v_2 & v_3}$\n",
    "\n",
    "$V_\\mu V^\\mu = \\M{-v^0 & v^1 & v^2 & v^3} \\M{v^0 \\\\ v^1 \\\\ v^2 \\\\ v^3} = -v^{0^2} + v^{1^2} + v^{2^2} + v^{3^2}$\n",
    "\n",
    "$V^\\mu \\rightarrow V^{\\mu'} = \\Lambda^{\\mu'}_\\mu V^\\mu$\n",
    "\n",
    "$V_\\mu \\rightarrow V_{\\mu'} = (\\tilde r^T)' = (\\tilde r')^T = (\\Lambda^{-1^T} \\tilde r)^T = \\tilde r^T \\Lambda^{-1} = V_\\mu \\Lambda^{-1} = V_\\mu \\Lambda^\\mu_{\\mu'}$\n",
    "\n"
   ]
  },
  {
   "cell_type": "code",
   "execution_count": 2,
   "metadata": {
    "pycharm": {
     "name": "#%%\n"
    }
   },
   "outputs": [],
   "source": [
    "\n",
    "\n",
    "\n",
    "\n"
   ]
  },
  {
   "cell_type": "markdown",
   "metadata": {
    "pycharm": {
     "name": "#%% md\n"
    }
   },
   "source": [
    "Topic 5: Derivatives, Velocities, Energy ad Momentum in Special Relativity\n",
    "===\n",
    "\n",
    "Indexed Quantities\n",
    "\n",
    "Tensors - all kinematic and dynamical quantities\n",
    "---\n",
    "\n",
    "$V_\\mu T^{\\mu\\nu}=G^\\nu$\n",
    "\n",
    "Contraction of a tensor:\n",
    "    \n",
    "$V_\\mu T^{\\mu\\nu} = G^\\nu$\n",
    "\n",
    "Transform:\n",
    "$\\Lambda^\\mu_{\\mu'}  V_\\mu   \\Lambda^{\\mu'}_\\mu \\Lambda^{\\nu'}_\\nu  T^{\\mu\\nu}$\n",
    "\n",
    "$= V_\\mu  \\Lambda^{\\nu'}_\\nu  T^{\\mu\\nu}$\n",
    "\n",
    "The metric tensor\n",
    "----\n",
    "$g_{\\mu\\nu}$\n",
    "\n",
    "Dual vector:\n",
    "\n",
    "$g_{\\mu\\nu} V^\\nu = V_\\mu$\n",
    "\n",
    "The dual of the metric is equal to its inverse\n",
    "\n",
    "$g^{\\mu\\nu} = (g_{\\mu\\nu})^{-1}$\n",
    "\n",
    "$g_{\\mu\\nu} \\rightarrow g_{\\mu'\\nu'} = \\Lambda^\\mu_{\\mu'}\\Lambda^\\nu_{\\nu'} g_{\\mu\\nu}$\n",
    "\n",
    "$g' = \\Lambda^{-1^T} g \\Lambda^{-1}$\n",
    "\n",
    "$\\Lambda^T g' \\Lambda = g$\n",
    "\n",
    "$\\Lambda^T g \\Lambda = g$\n",
    "\n",
    "$g'=g$\n",
    "\n",
    "The Lorentz transformations are those transformations that give you the metric itself, when you apply them to the metric.\n",
    "\n",
    "In Special Relativity, the metric $\\eta$ and its dual are the same.\n",
    "\n",
    "\n",
    "$\\eta^{\\mu\\nu} = \\eta_{\\mu\\nu} = \\M{-1 & 0 & 0 & 0 \\\\ 0 & 1 & 0 & 0 \\\\ 0 & 0 & 1 & 0 \\\\ 0 & 0 & 0 & 1}$\n",
    "\n",
    "The transformations\n",
    "---\n",
    "\n",
    "The only objects that have primed and unprimed indices are $\\Lambda^{\\mu'}_{\\:\\:\\mu}$ and $\\Lambda^\\mu_{\\:\\:\\mu'}$\n",
    "with rows first, columns second.\n",
    "\n",
    "$\\eta_{\\mu\\nu} \\eta^{\\nu\\alpha}= \\M{1 & 0 & 0 & 0 \\\\ 0 & 1 & 0 & 0 \\\\ 0 & 0 & 1 & 0 \\\\ 0 & 0 & 0 & 1}$\n",
    "\n",
    "The trace of the metric\n",
    "\n",
    "$\\mathrm{Tr}\\: \\eta = \\eta_{\\mu\\nu}\\eta^{\\nu\\mu} = 4$\n",
    "\n",
    "Indexed quatities:\n",
    "\n",
    "Rotate a 2D vector:\n",
    "\n",
    "$\\dx^\\mu = \\M{\\dx \\\\ \\dy} \\rightarrow$\n",
    "$\\M{\\cos \\theta & \\sin \\theta\n",
    " \\\\\\\\ -\\sin \\theta & \\cos \\theta}$\n",
    "$\\M{ \\dx \\\\\\\\ \\dy}$\n",
    "$= \\M{\\cos \\theta \\dx + \\sin \\theta \\dy\n",
    " \\\\\\\\ -\\sin \\theta \\dx + \\cos \\theta \\dy}$\n",
    "$= \\M{\\dx' \\\\\\\\ \\dy'}$\n",
    "\n",
    "$\\Tud \\Lambda {\\mu'} \\mu = \\M{\\cos \\theta + \\sin \\theta \\\\ -\\sin \\theta + \\cos \\theta}$\n",
    "$\\Rightarrow \\Tud \\Lambda {1'} 1 = \\cos \\theta, \\Tud \\Lambda {1'} 2 = \\sin \\theta, \\Tud \\Lambda {2'} 1 = -\\sin \\theta, \\Tud \\Lambda {2'} 2 = \\cos \\theta$\n",
    "\n",
    "$\\dx^{\\mu'} = \\Lambda^{\\mu'}_{\\:\\:\\mu} \\dx^\\mu = \\Lambda^{\\mu'}_{\\:\\:1} \\dx^{\\ss 1} + \\Lambda^{\\mu'}_{\\:\\:2} \\dx^{\\ss 2}$\n",
    "\n",
    "$\\dx^{\\ss 1'} = \\Lambda^{1'}_{\\:\\:1} \\dx^{\\ss 1} + \\Lambda^{1'}_{\\:\\:2} \\dx^{\\ss 2}$\n",
    "\n",
    "$\\dx^{\\ss2'} = \\Lambda^{2'}_{\\:\\:1} \\dx^{\\ss 1} + \\Lambda^{2'}_{\\:\\:2} \\dx^{\\ss 2}$\n",
    "\n",
    "Note that with indexed notation order doesn't matter.\n",
    "\n",
    "$\\Lambda^{\\mu'}_{\\:\\:\\mu} \\dx^\\mu = \\dx^\\mu \\Lambda^{\\mu'}_{\\:\\:\\mu}$\n",
    "\n",
    "To transfer summed indices into matrix manipulations, the summed indeices must be immediately adjacent.\n",
    "\n",
    "In the following example we can switch the order before we apply matrix multiplication:\n",
    "\n",
    "$T_{\\mu\\nu} M^{\\lambda\\mu} = M^{\\lambda\\mu} T_{\\mu\\nu}$\n",
    "\n",
    "This is not possible in another case:\n",
    "\n",
    "$T_{\\mu\\nu} M^{\\mu\\lambda}$\n",
    "\n",
    "Thus we have to transpose one of them.\n",
    "\n",
    "$\\Tud \\Lambda {\\mu'} \\mu = \\Lambda$\n",
    "\n",
    "$\\Tud \\Lambda \\mu {\\mu'} = \\Lambda^{\\ss{-1}}$\n",
    "\n",
    "$\\Tdu \\Lambda {\\mu'} \\mu = \\Lambda^T$\n",
    "\n",
    "$\\Tud \\Lambda \\mu {\\mu'} = \\Lambda^{-1^T}$"
   ]
  },
  {
   "cell_type": "markdown",
   "metadata": {},
   "source": [
    "\n",
    "3D:\n",
    "\n",
    "$\\ds^{2} = \\dx^\\mu \\dx^{\\mu'} = \\dx^2 + \\dy^2 + \\dz^2 = 0$\n",
    "\n",
    "Can only be zero if $\\dx^\\mu=0$\n",
    "\n",
    "4D:\n",
    "\n",
    "$\\ds^{2} = \\dx_\\mu \\dx^\\mu = -c^2 \\dt^2 + \\dx^2 + \\dy^2 + \\dz^2$\n",
    "\n",
    "Can be zero even if $\\dx^\\mu \\neq 0$\n",
    "\n",
    "Can be $>0$, $<0$, $=0$\n",
    "\n",
    "Consider $\\dy = \\dz = 0$\n",
    "\n",
    "$\\ds^2 = -c^2 \\dt^2 + \\dx^2 > 0 \\Leftrightarrow \\frac{\\dx}{\\dt} > c$\n",
    "\n",
    "$\\ds^2 = -c^2 \\dt^2 + \\dx^2 = 0 \\Leftrightarrow \\frac{\\dx}{\\dt} = c$\n",
    "\n",
    "$\\ds^2 = -c^2 \\dt^2 + \\dx^2 < 0 \\Leftrightarrow \\frac{\\dx}{\\dt} < c$\n",
    "\n",
    "Notation:\n",
    "\n",
    "$\\partial_\\mu = \\pp {x^\\mu} = \\M{\\pp{ct} & \\pp x & \\pp y & \\pp z}$\n",
    "\n",
    "$\\partial_\\mu A^\\mu$ = the 4-Divergence\n",
    "\n",
    "$\\partial_\\mu \\theta$ = the 4-Gradient\n",
    "\n",
    "\n",
    "Two frames, $S$ and $S'$, as seen in $S$:\n",
    "\n",
    "$U^0 = c^2 \\frac{\\dt}{\\dtau} = c \\gamma$\n",
    "\n",
    "$U^1 = c \\frac{\\dx}{\\dtau} = c \\frac{\\dx}{\\dt} \\frac{\\dt}{\\dtau} = V_x \\gamma$\n",
    "\n",
    "$U^2 = c \\frac{\\dy}{\\dtau} = V_y \\gamma$\n",
    "\n",
    "$U^3 = c \\frac{\\dz}{\\dtau} = V_z \\gamma$\n",
    "\n",
    "$\\gamma = \\frac{1}{\\sqrt{1-\\frac{v^2}{c^2}}}$\n",
    "\n",
    "$\\dtau^2 = c^2 \\dt^2 - \\dx^2 - \\dy^2 - \\dz^2$\n",
    "\n",
    "$\\dtau = \\sqrt{-\\ds^2}$\n",
    "\n",
    "$\\frac{\\dtau^2}{\\dt^2} = c^2 - \\vec v^2$\n",
    "\n",
    "$\\frac{\\dt}{\\dtau} = \\frac{1}{\\sqrt{c^2 - \\vec v^2}} = \\frac{\\gamma}{c}$\n",
    "\n",
    "Momentum:\n",
    "\n",
    "$P^\\mu = m U^\\mu = \\M{m \\gamma c \\\\ m \\gamma \\vec v} \\Rightarrow P'^\\mu = \\M{mc \\\\ \\vec 0}$\n",
    "\n",
    "\n",
    "For $\\frac{v}{c} \\ll 1$:  $\\gamma \\approx 1 + \\frac12 \\frac{v^2}{c^2}$\n",
    "\n",
    "$P^\\mu = \\M{\\frac1c \\left( mc^2 + \\frac12 m \\vec v^2 + \\dots \\right) \\\\ m \\vec v + \\dots}$\n",
    "\n",
    "$= \\M{\\frac{E_{rel}}{c} \\\\ \\vec P_{rel}}$\n",
    "\n",
    "$P^\\mu$: a vector\n",
    "\n",
    "$P_\\mu P^\\mu$: a scalar\n",
    "\n",
    "$\\left(P_\\mu P^\\mu\\right)_{any frame} = \\left(P_\\mu P^\\mu\\right)_{rest}$\n",
    "\n",
    "Mass-shell condition:\n",
    "\n",
    "$E^2 - p^2c^2 = m^2 c^4$\n",
    "\n",
    "A relation between rel. energey, rel. momentum and mass that must be satisfied for all real particles\n",
    "\n",
    "$P^\\mu \\lt 0$ if $m^2 \\gt 0$\n",
    "\n",
    "$P^\\mu = 0$ if $m^2 = 0$\n",
    "\n",
    "$P^\\mu > 0$ if $m^2 < 0$"
   ]
  },
  {
   "cell_type": "markdown",
   "metadata": {
    "pycharm": {
     "name": "#%% md\n"
    }
   },
   "source": [
    "# Topic 6: Lie Groups, Lie Algebras and an $SO(3)$ case study\n",
    "\n",
    "## How to compare continuous groups\n",
    "\n",
    "Which features must be the same for two groups to be the same?\n",
    "\n",
    "- nr. of free parameters must be the same\n",
    "\n",
    "- abelian vs. non-abalian\n",
    "\n",
    "Features that may differ:\n",
    "\n",
    "- dim. of matrix rep.\n",
    "\n",
    "- real or complex\n",
    "\n",
    "$SO(1,3), SU(3), SU(2), U(1)$ are all Lie groups.\n",
    "\n",
    "Technically a Lie group forms a manifold with a differentiable structure\n",
    "\n",
    "$SO(3)$\n",
    "\n",
    "## The exponential map:"
   ]
  },
  {
   "cell_type": "code",
   "execution_count": 28,
   "outputs": [
    {
     "data": {
      "text/latex": "$1 + i q \\theta - \\frac{q^{2} \\theta^{2}}{2} - \\frac{i q^{3} \\theta^{3}}{6} + \\frac{q^{4} \\theta^{4}}{24} + \\frac{i q^{5} \\theta^{5}}{120} + O\\left(q^{6}\\right)$"
     },
     "metadata": {},
     "output_type": "display_data"
    }
   ],
   "source": [
    "g_R_yz = Matrix([[0,0,0],[0,0,-I],[0,I,0]])\n",
    "from sympy.abc import q\n",
    "\n",
    "R_yz = E**(I * q * theta)\n",
    "show(series(R_yz, q))"
   ],
   "metadata": {
    "collapsed": false,
    "pycharm": {
     "name": "#%%\n"
    }
   }
  },
  {
   "cell_type": "markdown",
   "source": [
    "$R_{yz} = e^{i g_{R_{yz}} \\theta} = I + i g_{R_{yz}} - \\frac12 g^2_{R_{yz}} \\theta^2 - \\frac16 i\\left( g_{R_{yz}} \\theta \\right)^3 + \\dots$"
   ],
   "metadata": {
    "collapsed": false,
    "pycharm": {
     "name": "#%% md\n"
    }
   }
  },
  {
   "cell_type": "code",
   "execution_count": 3,
   "outputs": [
    {
     "data": {
      "text/latex": "$\\Rightarrow g_{R_{yz}}=\\left[\\begin{matrix}0 & 0 & 0\\\\0 & 0 & - i\\\\0 & i & 0\\end{matrix}\\right]$"
     },
     "metadata": {},
     "output_type": "display_data"
    },
    {
     "data": {
      "text/latex": "$g^2_{R_{yz}}=\\left[\\begin{matrix}0 & 0 & 0\\\\0 & 1 & 0\\\\0 & 0 & 1\\end{matrix}\\right]$"
     },
     "metadata": {},
     "output_type": "display_data"
    },
    {
     "data": {
      "text/latex": "$g^3_{R_{yz}}=\\left[\\begin{matrix}0 & 0 & 0\\\\0 & 0 & - i\\\\0 & i & 0\\end{matrix}\\right]=g_{R_{yz}}$"
     },
     "metadata": {},
     "output_type": "display_data"
    }
   ],
   "source": [
    "show(r\"\\Rightarrow g_{R_{yz}}=\", g_R_yz)\n",
    "show(r\"g^2_{R_{yz}}=\", g_R_yz ** 2)\n",
    "show(\"g^3_{R_{yz}}=\", g_R_yz ** 3, \"=g_{R_{yz}}\")"
   ],
   "metadata": {
    "collapsed": false,
    "pycharm": {
     "name": "#%%\n"
    }
   }
  },
  {
   "cell_type": "markdown",
   "source": [
    "Can I get to these $g$'s without a reference to these matrices:\n",
    "\n",
    "$R_{yz} = \\M{1 & 0 & 0 \\\\ 0 & \\cos \\theta  & \\sin \\theta \\\\ 0 & -\\sin \\theta & \\cos \\theta}$?\n",
    "\n",
    "Specify the Lie algebra of the group.\n",
    "\n",
    "The commutator has to be equal to $i g_{R_{xy}}$\n",
    "\n",
    "$[g_{R_{yz}},g_{R_{zx}}] = g_{R_{yz}} g_{R_{zx}} - g_{R_{zx}} g_{R_{yz}} = i g_{R_{xy}}$\n",
    "\n",
    "$\\fbox{$[g_i, g_j] = i \\epsilon^{ijk} g_k$}$\n",
    "\n",
    "Cyclic permutations:\n",
    "\n",
    "$\\epsilon^{123} =\\epsilon^{312} = \\epsilon^{231} = 1$\n",
    "\n",
    "Change any two indices or anti-cyclic permutation:\n",
    "\n",
    "$\\epsilon^{213} = \\epsilon^{132} = \\epsilon^{321} = -1$\n",
    "\n",
    "Repeat any indices:\n",
    "\n",
    "$\\epsilon^{iij} = 0$"
   ],
   "metadata": {
    "collapsed": false,
    "pycharm": {
     "name": "#%% md\n"
    }
   }
  },
  {
   "cell_type": "markdown",
   "metadata": {
    "pycharm": {
     "name": "#%% md\n"
    }
   },
   "source": [
    "# Topic 7: Spinors\n",
    "\n",
    "## Rotations in 3D\n",
    "\n",
    "$\\fbox{$[g_i, g_j] = i \\epsilon^{ijk} g_k$}$\n",
    "\n",
    "Which is shorthand for e.g. $\\:\\: [g_1,g_2] = i g_3$ because $\\epsilon^{123}=1$\n",
    "\n",
    "In general, not restricting to rotations:\n",
    "\n",
    "$[g_i, g_j] = f^{ijk} g_k$\n",
    "\n",
    "The $f$'s are the *structural constants*.\n",
    "\n",
    "## Is there a 2D representation of rotations in 3D?\n",
    "\n",
    "## $SU(2)$:\n",
    "\n",
    "$g_{R_{yz}}= \\M{0 & \\frac12 \\\\ \\frac12 & 0}$, $g_{R_{zx}}= \\M{0 & -\\frac{i}{2} \\\\ \\frac{i}{2} & 0}$, $g_{R_{xy}}= \\M{-\\frac12 & 0 \\\\ 0 & \\frac12}$\n",
    "\n",
    "$[g_{R_{yz}},g_{R_{zx}}] = \\M{\\frac{i}{4} & 0 \\\\ 0 & -\\frac{i}{4} } - \\M{-\\frac{i}{4} & 0 \\\\ 0 & \\frac{i}{4}} = \\M{\\frac{i}{2} & 0 \\\\ 0 & -\\frac{i}{2}} = i \\M{-\\frac12 & 0 \\\\ 0 & \\frac12} = i g_{R_{xy}}$\n",
    "\n",
    "The $g$'s are essentially half of the Pauli spin-matrices $\\sigma_x,\\sigma_y, \\sigma_z$\n",
    "\n",
    "\n",
    "$e^{i g_{A}v^A} \\Rightarrow R_{yz}(\\theta) = e^{i g_{R_{yz}} \\theta} = \\M{\\cos \\frac{\\theta}{2} & i \\sin \\frac{\\theta}{2} \\\\ i \\sin \\frac{\\theta}{2} & \\cos \\frac{\\theta}{2} }$\n",
    "\n",
    "Note that the determinant is 1, but the orthogonality condition $R^T R=I$ is not met.\n",
    "\n",
    "Since we are dealing with complex matrices, we have to use the hermitian conjugate in the orthogonality condition.\n",
    "\n",
    "$R^\\dagger R = I$\n",
    "\n",
    "These $SU(2)$ matrices act on complex 2 component objects $\\chi$ called *spinors*.\n",
    "\n",
    "$\\chi \\rightarrow \\chi'= e^{\\frac12 \\vec \\sigma \\cdot \\vec \\theta} \\chi$\n",
    "\n",
    "$SO(3): R_{yz}(2\\pi) = \\M{1 & 0 & 0 \\\\ 0 & 1 & 0 \\\\ 0 & 0 & 1} = I$\n",
    "\n",
    "$SU(2): R_{yz}(2\\pi) = \\M{-1 & 0 \\\\ 0 & -1} = -I$\n",
    "\n",
    "Spinors know about the square root of the geometry.\n",
    "\n",
    "The anti-commutator:\n",
    "\n",
    "$\\{\\sigma_i, \\sigma_j\\}  = 2 \\delta_{ij} I_{2 \\times 2} $\n",
    "\n",
    "(*Clifford-Algebra*)\n",
    "\n",
    "In 3D the metric is just the identity.\n",
    "\n",
    "$\\vec \\sigma = \\sigma_x \\hat i + \\sigma_y \\hat j + \\sigma_z \\hat k$\n",
    "\n",
    "$\\vec \\sigma$ is a vector of $2\\times 2$ matrices in spin space.\n",
    "\n",
    "## Homework 3/4:\n",
    "\n",
    "The generators of $SU(3)$ can be written as $g_i = \\frac{\\lambda_i}{2}$ where:\n",
    "\n",
    "$\\lambda_1 = \\M{0 & 1 & 0 \\\\ 1 & 0 & 0 \\\\ 0 & 0 & 0}$, $\\lambda_2 = \\M{0 & -i & 0 \\\\ i & 0 & 0 \\\\ 0 & 0 & 0}$,\n",
    "$\\lambda_3 = \\M{1 & 0 & 0 \\\\ 0 & -1 & 0 \\\\ 0 & 0 & 0}$, $\\lambda_4 = \\M{0 & 0 & 1 \\\\ 0 & 0 & 0 \\\\ 1 & 0 & 0}$\n",
    "\n",
    "$\\lambda_5 = \\M{0 & 0 & -i \\\\ 0 & 0 & 0 \\\\ i & 0 & 0}$, $\\lambda_6 = \\M{0 & 0 & 0 \\\\ 0 & 0 & 1 \\\\ 0 & 1 & 0}$,\n",
    "$\\lambda_7 = \\M{0 & 0 & 0 \\\\ 0 & 0 & -i \\\\ 0 & i & 0}$, $\\lambda_8 = \\frac{1}{\\sqrt 3}\\M{1 & 0 & 0 \\\\ 0 & 1 & 0 \\\\ 0 & 0 & -2}$\n",
    "\n",
    "### Verify that these generators satisfy the algebra $[g_i,g_j] = if^{ijk}g_k$ where\n",
    "\n",
    "$f^{123} = 1, f^{147} = f^{165} = f^{246} = f^{257} = f^{345} = f^{376} = \\frac12, f^{458}=f^{687}=\\frac{\\sqrt 3}{2}$\n",
    "\n",
    "and the $f^{ijk}$ are totally antisymmetric in the three indices, i.e. $f^{ijk} = - f^{jik}$.\n",
    "\n",
    "If a particular index combination doesn't appear in this list (or from cyclic permutations) it is $0$.\n",
    "\n",
    "e.g.:\n",
    "\n",
    "$[g_4,g_5] = if^{45k}g_k$"
   ]
  },
  {
   "cell_type": "code",
   "execution_count": 4,
   "metadata": {
    "pycharm": {
     "name": "#%%\n"
    }
   },
   "outputs": [
    {
     "data": {
      "text/latex": "$g_3=\\left[\\begin{matrix}\\frac{1}{2} & 0 & 0\\\\0 & - \\frac{1}{2} & 0\\\\0 & 0 & 0\\end{matrix}\\right]g_4=\\left[\\begin{matrix}0 & 0 & \\frac{1}{2}\\\\0 & 0 & 0\\\\\\frac{1}{2} & 0 & 0\\end{matrix}\\right]g_5=\\left[\\begin{matrix}0 & 0 & - \\frac{i}{2}\\\\0 & 0 & 0\\\\\\frac{i}{2} & 0 & 0\\end{matrix}\\right]g_8=\\left[\\begin{matrix}\\frac{\\sqrt{3}}{6} & 0 & 0\\\\0 & \\frac{\\sqrt{3}}{6} & 0\\\\0 & 0 & - \\frac{\\sqrt{3}}{3}\\end{matrix}\\right]$"
     },
     "metadata": {},
     "output_type": "display_data"
    },
    {
     "data": {
      "text/latex": "$[g_4,g_5]=\\left[\\begin{matrix}\\frac{i}{2} & 0 & 0\\\\0 & 0 & 0\\\\0 & 0 & - \\frac{i}{2}\\end{matrix}\\right]$"
     },
     "metadata": {},
     "output_type": "display_data"
    },
    {
     "data": {
      "text/latex": "$if^{45k}g_k=\\left[\\begin{matrix}\\frac{i}{2} & 0 & 0\\\\0 & 0 & 0\\\\0 & 0 & - \\frac{i}{2}\\end{matrix}\\right]$"
     },
     "metadata": {},
     "output_type": "display_data"
    }
   ],
   "source": [
    "lambda_3 = Matrix([[1,0,0], [0,-1,0], [0,0,0]])\n",
    "lambda_4 = Matrix([[0,0,1], [0,0,0], [1,0,0]])\n",
    "lambda_5 = Matrix([[0,0,-I], [0,0,0], [I,0,0]])\n",
    "lambda_8 = Matrix([[1,0,0], [0,1,0], [0,0,-2]]) / sqrt(3)\n",
    "lambda_8.simplify()\n",
    "g_3 = lambda_3 / 2\n",
    "g_4 = lambda_4 / 2\n",
    "g_5 = lambda_5 / 2\n",
    "g_8 = lambda_8 / 2\n",
    "show(r\"g_3=\", g_3, r\"g_4=\", g_4, \"g_5=\", g_5, \"g_8=\", g_8)\n",
    "commutator_g4_g5 = g_4 * g_5 - g_5 * g_4\n",
    "show(r\"[g_4,g_5]=\", commutator_g4_g5)\n",
    "f__451 = f__452 = f__454 = f__455 = f__456 = f__457 =0\n",
    "f__345 = sympify(\"1/2\")\n",
    "f__458 = sqrt(3)/2\n",
    "f__453 = f__345\n",
    "show(r\"if^{45k}g_k=\", I * f__453 * g_3 + I * f__458 * g_8)"
   ]
  },
  {
   "cell_type": "markdown",
   "metadata": {
    "pycharm": {
     "name": "#%% md\n"
    }
   },
   "source": [
    "## Homework 3/5\n",
    "Verify the algebra of the Lorentz generators, i.e. that $[J_i,J_j] = i \\epsilon^{ijk}J_k$,\n",
    "$[K_i,K_j] = -i \\epsilon^{ijk}J_k$ and $[J_i,K_j] = i \\epsilon^{ijk}K_k$"
   ]
  },
  {
   "cell_type": "code",
   "execution_count": 5,
   "outputs": [
    {
     "data": {
      "text/latex": "$\\epsilon=\\left[\\begin{matrix}\\left[ 0, \\  0, \\  0\\right] & \\left[ 0, \\  0, \\  1\\right] & \\left[ 0, \\  -1, \\  0\\right]\\\\\\left[ 0, \\  0, \\  -1\\right] & \\left[ 0, \\  0, \\  0\\right] & \\left[ 1, \\  0, \\  0\\right]\\\\\\left[ 0, \\  1, \\  0\\right] & \\left[ -1, \\  0, \\  0\\right] & \\left[ 0, \\  0, \\  0\\right]\\end{matrix}\\right]$"
     },
     "metadata": {},
     "output_type": "display_data"
    },
    {
     "data": {
      "text/latex": "$\\epsilon^{123}=1$"
     },
     "metadata": {},
     "output_type": "display_data"
    },
    {
     "data": {
      "text/latex": "$\\epsilon^{312}=1$"
     },
     "metadata": {},
     "output_type": "display_data"
    },
    {
     "data": {
      "text/latex": "$\\epsilon^{231}=1$"
     },
     "metadata": {},
     "output_type": "display_data"
    },
    {
     "data": {
      "text/latex": "$\\epsilon^{213}=-1$"
     },
     "metadata": {},
     "output_type": "display_data"
    },
    {
     "data": {
      "text/latex": "$\\epsilon^{132}=-1$"
     },
     "metadata": {},
     "output_type": "display_data"
    },
    {
     "data": {
      "text/latex": "$\\epsilon^{321}=-1$"
     },
     "metadata": {},
     "output_type": "display_data"
    },
    {
     "data": {
      "text/latex": "$J_1=\\left[\\begin{matrix}0 & 0 & 0 & 0\\\\0 & 0 & 0 & 0\\\\0 & 0 & 0 & - i\\\\0 & 0 & i & 0\\end{matrix}\\right],J_2=\\left[\\begin{matrix}0 & 0 & 0 & 0\\\\0 & 0 & 0 & i\\\\0 & 0 & 0 & 0\\\\0 & - i & 0 & 0\\end{matrix}\\right],J_3=\\left[\\begin{matrix}0 & 0 & 0 & 0\\\\0 & 0 & - i & 0\\\\0 & i & 0 & 0\\\\0 & 0 & 0 & 0\\end{matrix}\\right]$"
     },
     "metadata": {},
     "output_type": "display_data"
    },
    {
     "data": {
      "text/latex": "$K_1=\\left[\\begin{matrix}0 & - i & 0 & 0\\\\- i & 0 & 0 & 0\\\\0 & 0 & 0 & 0\\\\0 & 0 & 0 & 0\\end{matrix}\\right],K_2=\\left[\\begin{matrix}0 & 0 & - i & 0\\\\0 & 0 & 0 & 0\\\\- i & 0 & 0 & 0\\\\0 & 0 & 0 & 0\\end{matrix}\\right],K_3=\\left[\\begin{matrix}0 & 0 & 0 & - i\\\\0 & 0 & 0 & 0\\\\0 & 0 & 0 & 0\\\\- i & 0 & 0 & 0\\end{matrix}\\right]$"
     },
     "metadata": {},
     "output_type": "display_data"
    },
    {
     "data": {
      "text/latex": "$[J_1,J_2]=\\left[\\begin{matrix}0 & 0 & 0 & 0\\\\0 & 0 & 1 & 0\\\\0 & -1 & 0 & 0\\\\0 & 0 & 0 & 0\\end{matrix}\\right],i\\epsilon^{12k}J_k\\left[\\begin{matrix}0 & 0 & 0 & 0\\\\0 & 0 & 1 & 0\\\\0 & -1 & 0 & 0\\\\0 & 0 & 0 & 0\\end{matrix}\\right]$"
     },
     "metadata": {},
     "output_type": "display_data"
    },
    {
     "data": {
      "text/latex": "$[K_1,K_2]=\\left[\\begin{matrix}0 & 0 & 0 & 0\\\\0 & 0 & -1 & 0\\\\0 & 1 & 0 & 0\\\\0 & 0 & 0 & 0\\end{matrix}\\right],-i\\epsilon^{12k}J_k\\left[\\begin{matrix}0 & 0 & 0 & 0\\\\0 & 0 & -1 & 0\\\\0 & 1 & 0 & 0\\\\0 & 0 & 0 & 0\\end{matrix}\\right]$"
     },
     "metadata": {},
     "output_type": "display_data"
    },
    {
     "data": {
      "text/latex": "$[J_1,K_2]=\\left[\\begin{matrix}0 & 0 & 0 & 1\\\\0 & 0 & 0 & 0\\\\0 & 0 & 0 & 0\\\\1 & 0 & 0 & 0\\end{matrix}\\right],i\\epsilon^{12k}K_k\\left[\\begin{matrix}0 & 0 & 0 & 1\\\\0 & 0 & 0 & 0\\\\0 & 0 & 0 & 0\\\\1 & 0 & 0 & 0\\end{matrix}\\right]$"
     },
     "metadata": {},
     "output_type": "display_data"
    }
   ],
   "source": [
    "epsilon__123 = epsilon__312 = epsilon__231 = 1\n",
    "epsilon__213 = epsilon__132 = epsilon__321 = -1\n",
    "epsilon__111 = epsilon__112 = epsilon__113 = 0\n",
    "epsilon__221 = epsilon__222 = epsilon__223 = 0\n",
    "epsilon__331 = epsilon__332 = epsilon__333 = 0\n",
    "epsilon__211 = epsilon__311 = epsilon__233 = 0\n",
    "epsilon__121 = epsilon__131 = epsilon__212 = 0\n",
    "epsilon__232 = epsilon__313 = epsilon__323 = 0\n",
    "epsilon__122 = epsilon__133 = 0\n",
    "epsilon = Matrix([[[0,0,0],[0,0,1],[0,-1,0]],[[0,0,-1],[0,0,0],[1,0,0]],[[0,1,0],[-1,0,0],[0,0,0]]])\n",
    "show(r\"\\epsilon=\", epsilon)\n",
    "row = 1\n",
    "column = 2\n",
    "index = 3\n",
    "\n",
    "def matrix_elem(m, i, j, k):\n",
    "    return m[(i - 1) * 3 + j - 1][k - 1]\n",
    "\n",
    "show(r\"\\epsilon^{123}=\", matrix_elem(epsilon, 1,2,3))\n",
    "show(r\"\\epsilon^{312}=\", matrix_elem(epsilon, 3,1,2))\n",
    "show(r\"\\epsilon^{231}=\", matrix_elem(epsilon, 2,3,1))\n",
    "show(r\"\\epsilon^{213}=\", matrix_elem(epsilon, 2,1,3))\n",
    "show(r\"\\epsilon^{132}=\", matrix_elem(epsilon, 1,3,2))\n",
    "show(r\"\\epsilon^{321}=\", matrix_elem(epsilon, 3,2,1))\n",
    "\n",
    "J_1 = Matrix([[0,0,0,0],[0,0,0,0],[0,0,0,-I],[0,0,I,0]])\n",
    "J_2 = Matrix([[0,0,0,0],[0,0,0,I],[0,0,0,0],[0,-I,0,0]])\n",
    "J_3 = Matrix([[0,0,0,0],[0,0,-I,0],[0,I,0,0],[0,0,0,0]])\n",
    "K_1 = Matrix([[0,-I,0,0],[-I,0,0,0],[0,0,0,0],[0,0,0,0]])\n",
    "K_2 = Matrix([[0,0,-I,0],[0,0,0,0],[-I,0,0,0],[0,0,0,0]])\n",
    "K_3 = Matrix([[0,0,0,-I],[0,0,0,0],[0,0,0,0],[-I,0,0,0]])\n",
    "\n",
    "texmap_lorentz_rot = {\"J_1\" : J_1, \"J_2\" : J_2, \"J_3\" : J_3}\n",
    "texmap_lorentz_boost = {\"K_1\" : K_1, \"K_2\" : K_2, \"K_3\" : K_3}\n",
    "\n",
    "show(\"J_1=\", J_1, \",J_2=\", J_2, \",J_3=\", J_3)\n",
    "show(\"K_1=\", K_1, \",K_2=\", K_2, \",K_3=\", K_3)\n",
    "\n",
    "s = []\n",
    "for i in range(3):\n",
    "    for j in range(3):\n",
    "        if i != j:\n",
    "            A = texmap_lorentz_rot[f\"J_{i+1}\"]\n",
    "            B = texmap_lorentz_rot[f\"J_{j+1}\"]\n",
    "            commutator = A * B - B * A\n",
    "            s += [f\"[J_{i+1},J_{j+1}]=\", commutator]\n",
    "            alg = Matrix([[0,0,0,0],[0,0,0,0],[0,0,0,0],[0,0,0,0]])\n",
    "            for k in range(3):\n",
    "                alg += I * matrix_elem(epsilon, i+1, j+1, k+1) * texmap_lorentz_rot[f\"J_{k+1}\"]\n",
    "            s += [rf\",i\\epsilon^{{{i+1}{j+1}k}}J_k\", alg]\n",
    "            assert(commutator == alg)\n",
    "\n",
    "show(*s[:4])\n",
    "s = []\n",
    "for i in range(3):\n",
    "    for j in range(3):\n",
    "        if i != j:\n",
    "            A = texmap_lorentz_boost[f\"K_{i+1}\"]\n",
    "            B = texmap_lorentz_boost[f\"K_{j+1}\"]\n",
    "            commutator = A * B - B * A\n",
    "            s += [f\"[K_{i+1},K_{j+1}]=\", commutator]\n",
    "            alg = Matrix([[0,0,0,0],[0,0,0,0],[0,0,0,0],[0,0,0,0]])\n",
    "            for k in range(3):\n",
    "                alg -= I * matrix_elem(epsilon, i+1, j+1, k+1) * texmap_lorentz_rot[f\"J_{k+1}\"]\n",
    "            s += [rf\",-i\\epsilon^{{{i+1}{j+1}k}}J_k\", alg]\n",
    "            assert(commutator == alg)\n",
    "show(*s[:4])\n",
    "s = []\n",
    "for i in range(3):\n",
    "    for j in range(3):\n",
    "        if i != j:\n",
    "            A = texmap_lorentz_rot[f\"J_{i+1}\"]\n",
    "            B = texmap_lorentz_boost[f\"K_{j+1}\"]\n",
    "            commutator = A * B - B * A\n",
    "            s += [f\"[J_{i+1},K_{j+1}]=\", commutator]\n",
    "            alg = Matrix([[0,0,0,0],[0,0,0,0],[0,0,0,0],[0,0,0,0]])\n",
    "            for k in range(3):\n",
    "                alg += I * matrix_elem(epsilon, i+1, j+1, k+1) * texmap_lorentz_boost[f\"K_{k+1}\"]\n",
    "            s += [rf\",i\\epsilon^{{{i+1}{j+1}k}}K_k\", alg]\n",
    "            assert(commutator == alg)\n",
    "show(*s[:4])"
   ],
   "metadata": {
    "collapsed": false,
    "pycharm": {
     "name": "#%%\n"
    }
   }
  },
  {
   "cell_type": "markdown",
   "source": [
    "## Homework 3/6:\n",
    "\n",
    "Verify the algebra of the linear combinations $J_{\\pm i}$, i.e. that $[J_{\\pm i},J_{\\pm j}] = i \\epsilon^{ijk} J_{\\pm k}$\n",
    "and $[J_{+i},J_{-j}] = 0$\n",
    "\n",
    "$J_{\\pm i} = \\frac{J_i \\pm i K_i}{2}$"
   ],
   "metadata": {
    "collapsed": false,
    "pycharm": {
     "name": "#%% md\n"
    }
   }
  },
  {
   "cell_type": "code",
   "execution_count": 6,
   "outputs": [
    {
     "data": {
      "text/latex": "$J_{\\pm 1}=\\left[\\begin{matrix}0 & \\frac{1}{2} & 0 & 0\\\\\\frac{1}{2} & 0 & 0 & 0\\\\0 & 0 & 0 & - \\frac{i}{2}\\\\0 & 0 & \\frac{i}{2} & 0\\end{matrix}\\right]J_{\\pm 2}=\\left[\\begin{matrix}0 & 0 & \\frac{1}{2} & 0\\\\0 & 0 & 0 & \\frac{i}{2}\\\\\\frac{1}{2} & 0 & 0 & 0\\\\0 & - \\frac{i}{2} & 0 & 0\\end{matrix}\\right]J_{\\pm 3}=\\left[\\begin{matrix}0 & 0 & 0 & \\frac{1}{2}\\\\0 & 0 & - \\frac{i}{2} & 0\\\\0 & \\frac{i}{2} & 0 & 0\\\\\\frac{1}{2} & 0 & 0 & 0\\end{matrix}\\right]$"
     },
     "metadata": {},
     "output_type": "display_data"
    },
    {
     "data": {
      "text/latex": "$[J_{+1},J_{+2}]=\\left[\\begin{matrix}0 & 0 & 0 & \\frac{i}{2}\\\\0 & 0 & \\frac{1}{2} & 0\\\\0 & - \\frac{1}{2} & 0 & 0\\\\\\frac{i}{2} & 0 & 0 & 0\\end{matrix}\\right],i\\epsilon^{12k}J_{+k}\\left[\\begin{matrix}0 & 0 & 0 & \\frac{i}{2}\\\\0 & 0 & \\frac{1}{2} & 0\\\\0 & - \\frac{1}{2} & 0 & 0\\\\\\frac{i}{2} & 0 & 0 & 0\\end{matrix}\\right]$"
     },
     "metadata": {},
     "output_type": "display_data"
    },
    {
     "data": {
      "text/latex": "$[J_{-1},J_{-2}]=\\left[\\begin{matrix}0 & 0 & 0 & - \\frac{i}{2}\\\\0 & 0 & \\frac{1}{2} & 0\\\\0 & - \\frac{1}{2} & 0 & 0\\\\- \\frac{i}{2} & 0 & 0 & 0\\end{matrix}\\right],i\\epsilon^{12k}J_{-k}\\left[\\begin{matrix}0 & 0 & 0 & - \\frac{i}{2}\\\\0 & 0 & \\frac{1}{2} & 0\\\\0 & - \\frac{1}{2} & 0 & 0\\\\- \\frac{i}{2} & 0 & 0 & 0\\end{matrix}\\right]$"
     },
     "metadata": {},
     "output_type": "display_data"
    }
   ],
   "source": [
    "J_plus_1 = (J_1 + I * K_1) / 2\n",
    "J_plus_2 = (J_2 + I * K_2) / 2\n",
    "J_plus_3 = (J_3 + I * K_3) / 2\n",
    "J_minus_1 = (J_1 - I * K_1) / 2\n",
    "J_minus_2 = (J_2 - I * K_2) / 2\n",
    "J_minus_3 = (J_3 - I * K_3) / 2\n",
    "show(r\"J_{\\pm 1}=\", J_plus_1, r\"J_{\\pm 2}=\", J_plus_2, r\"J_{\\pm 3}=\", J_plus_3)\n",
    "s=[]\n",
    "for i in range(3):\n",
    "    for j in range(3):\n",
    "        if i != j:\n",
    "            A = eval(f\"J_plus_{i+1}\")\n",
    "            B = eval(f\"J_plus_{j+1}\")\n",
    "            commutator = A * B - B * A\n",
    "            s += [f\"[J_{{+{i+1}}},J_{{+{j+1}}}]=\", commutator]\n",
    "            alg = Matrix([[0,0,0,0],[0,0,0,0],[0,0,0,0],[0,0,0,0]])\n",
    "            for k in range(3):\n",
    "                alg += I * matrix_elem(epsilon, i+1, j+1, k+1) * eval(f\"J_plus_{k+1}\")\n",
    "            s += [rf\",i\\epsilon^{{{i+1}{j+1}k}}J_{{+k}}\", alg]\n",
    "            assert(commutator == alg)\n",
    "show(*s[:4])\n",
    "s=[]\n",
    "for i in range(3):\n",
    "    for j in range(3):\n",
    "        if i != j:\n",
    "            A = eval(f\"J_minus_{i+1}\")\n",
    "            B = eval(f\"J_minus_{j+1}\")\n",
    "            commutator = A * B - B * A\n",
    "            s += [f\"[J_{{-{i+1}}},J_{{-{j+1}}}]=\", commutator]\n",
    "            alg = Matrix([[0,0,0,0],[0,0,0,0],[0,0,0,0],[0,0,0,0]])\n",
    "            for k in range(3):\n",
    "                alg += I * matrix_elem(epsilon, i+1, j+1, k+1) * eval(f\"J_minus_{k+1}\")\n",
    "            s += [rf\",i\\epsilon^{{{i+1}{j+1}k}}J_{{-k}}\", alg]\n",
    "            assert(commutator == alg)\n",
    "show(*s[:4])\n"
   ],
   "metadata": {
    "collapsed": false,
    "pycharm": {
     "name": "#%%\n"
    }
   }
  },
  {
   "cell_type": "markdown",
   "metadata": {
    "pycharm": {
     "name": "#%% md\n"
    }
   },
   "source": [
    "# Topic 8: Spinors II\n",
    "\n",
    "In 4D:\n",
    "\n",
    "$\\{ \\gamma^\\mu, \\gamma^\\nu \\} = 2\\eta^{\\mu\\nu} I_{4 \\times 4} $\n",
    "\n",
    "The $\\gamma$'s  are $4 \\times 4$ matrices in spin space.\n",
    "\n",
    "We can consider each $\\gamma$ as the negative of its commutator.\n",
    "\n",
    "$\\vec \\gamma = \\M{-\\frac{i}{4} [\\gamma^0, \\gamma^1] & -\\frac{i}{4} [\\gamma^0, \\gamma^2] & -\\frac{i}{4} [\\gamma^0, \\gamma^3] & -\\frac{i}{4} [\\gamma^2, \\gamma^3] & -\\frac{i}{4} [\\gamma^1, \\gamma^3] & -\\frac{i}{4} [\\gamma^1, \\gamma^2]}$\n",
    "\n",
    "## Homework 4/1"
   ]
  },
  {
   "cell_type": "code",
   "execution_count": 7,
   "outputs": [
    {
     "data": {
      "text/latex": "$\\sigma_1=\\left[\\begin{matrix}0 & 1\\\\1 & 0\\end{matrix}\\right]\\sigma_2=\\left[\\begin{matrix}0 & - i\\\\i & 0\\end{matrix}\\right]\\sigma_3=\\left[\\begin{matrix}1 & 0\\\\0 & -1\\end{matrix}\\right]$"
     },
     "metadata": {},
     "output_type": "display_data"
    },
    {
     "data": {
      "text/latex": "$\\gamma^0=\\left[\\begin{matrix}0 & 0 & - i & 0\\\\0 & 0 & 0 & - i\\\\- i & 0 & 0 & 0\\\\0 & - i & 0 & 0\\end{matrix}\\right],\\gamma^1=\\left[\\begin{matrix}0 & 0 & 0 & - i\\\\0 & 0 & - i & 0\\\\0 & i & 0 & 0\\\\i & 0 & 0 & 0\\end{matrix}\\right],\\gamma^2=\\left[\\begin{matrix}0 & 0 & 0 & -1\\\\0 & 0 & 1 & 0\\\\0 & 1 & 0 & 0\\\\-1 & 0 & 0 & 0\\end{matrix}\\right],\\gamma^3=\\left[\\begin{matrix}0 & 0 & - i & 0\\\\0 & 0 & 0 & i\\\\- i & 0 & 0 & 0\\\\0 & i & 0 & 0\\end{matrix}\\right]$"
     },
     "metadata": {},
     "output_type": "display_data"
    },
    {
     "data": {
      "text/latex": "$\\gamma^5=-i\\gamma^0\\gamma^1\\gamma^2\\gamma^3=\\left[\\begin{matrix}-1 & 0 & 0 & 0\\\\0 & -1 & 0 & 0\\\\0 & 0 & -1 & 0\\\\0 & 0 & 0 & -1\\end{matrix}\\right]$"
     },
     "metadata": {},
     "output_type": "display_data"
    },
    {
     "data": {
      "text/latex": "$\\{ \\gamma^0, \\gamma^3 \\} = 2\\eta^{03} I_{4 \\times 4}=\\left[\\begin{matrix}0 & 0 & 0 & 0\\\\0 & 0 & 0 & 0\\\\0 & 0 & 0 & 0\\\\0 & 0 & 0 & 0\\end{matrix}\\right]$"
     },
     "metadata": {},
     "output_type": "display_data"
    },
    {
     "data": {
      "text/latex": "$\\{ \\gamma^1, \\gamma^3 \\} = 2\\eta^{13} I_{4 \\times 4}=\\left[\\begin{matrix}0 & 0 & 0 & 0\\\\0 & 0 & 0 & 0\\\\0 & 0 & 0 & 0\\\\0 & 0 & 0 & 0\\end{matrix}\\right]$"
     },
     "metadata": {},
     "output_type": "display_data"
    },
    {
     "data": {
      "text/latex": "$\\{ \\gamma^2, \\gamma^3 \\} = 2\\eta^{23} I_{4 \\times 4}=\\left[\\begin{matrix}0 & 0 & 0 & 0\\\\0 & 0 & 0 & 0\\\\0 & 0 & 0 & 0\\\\0 & 0 & 0 & 0\\end{matrix}\\right]$"
     },
     "metadata": {},
     "output_type": "display_data"
    }
   ],
   "source": [
    "sigma_1 = Matrix([[0,1],[1,0]])\n",
    "sigma_2 = Matrix([[0,-I],[I,0]])\n",
    "sigma_3 = Matrix([[1,0],[0,-1]])\n",
    "show(r\"\\sigma_1=\", sigma_1, r\"\\sigma_2=\", sigma_2, r\"\\sigma_3=\", sigma_3)\n",
    "\n",
    "gamma__0 = -I * Matrix([[0,0,1,0],[0,0,0,1],[1,0,0,0],[0,1,0,0]])\n",
    "gamma__1 = -I * Matrix([[0,0,0,1],[0,0,1,0],[0,-1,0,0],[-1,0,0,0]])\n",
    "gamma__2 = -I * Matrix([[0,0,0,-I],[0,0,I,0],[0,I,0,0],[-I,0,0,0]])\n",
    "gamma__3 = -I * Matrix([[0,0,1,0],[0,0,0,-1],[1,0,0,0],[0,-1,0,0]])\n",
    "gamma__5 = -I * gamma__0 * gamma__1 * gamma__2 * gamma__3\n",
    "show(r\"\\gamma^0=\", gamma__0, r\",\\gamma^1=\", gamma__1, r\",\\gamma^2=\", gamma__2, r\",\\gamma^3=\", gamma__3)\n",
    "show(r\"\\gamma^5=-i\\gamma^0\\gamma^1\\gamma^2\\gamma^3=\", gamma__5)\n",
    "eta = Matrix([[-1,0,0,0],[0,1,0,0],[0,0,1,0],[0,0,0,1]])\n",
    "anti_commutator_gamma_0_gamma_3 = 2 * eta[3] * Matrix([[1,0,0,0],[0,1,0,0],[0,0,1,0],[0,0,0,1]])\n",
    "anti_commutator_gamma_1_gamma_3 = 2 * eta[1*3 + 3] * Matrix([[1,0,0,0],[0,1,0,0],[0,0,1,0],[0,0,0,1]])\n",
    "anti_commutator_gamma_2_gamma_3 = 2 * eta[2*3 + 3] * Matrix([[1,0,0,0],[0,1,0,0],[0,0,1,0],[0,0,0,1]])\n",
    "show(r\"\\{ \\gamma^0, \\gamma^3 \\} = 2\\eta^{03} I_{4 \\times 4}=\", anti_commutator_gamma_0_gamma_3)\n",
    "show(r\"\\{ \\gamma^1, \\gamma^3 \\} = 2\\eta^{13} I_{4 \\times 4}=\", anti_commutator_gamma_1_gamma_3)\n",
    "show(r\"\\{ \\gamma^2, \\gamma^3 \\} = 2\\eta^{23} I_{4 \\times 4}=\", anti_commutator_gamma_2_gamma_3)"
   ],
   "metadata": {
    "collapsed": false,
    "pycharm": {
     "name": "#%%\n"
    }
   }
  },
  {
   "cell_type": "markdown",
   "source": [
    "### Prove the following identities:\n",
    "\n",
    "a) $Tr(\\gamma^\\mu\\gamma^\\nu) = 4\\eta^{\\mu\\nu}$"
   ],
   "metadata": {
    "collapsed": false,
    "pycharm": {
     "name": "#%% md\n"
    }
   }
  },
  {
   "cell_type": "markdown",
   "source": [
    "$\\psi \\rightarrow \\psi' = e^{\\frac{i}{4} \\sigma^{\\mu\\nu} \\omega_{\\mu\\nu} \\psi}$\n",
    "\n",
    "$\\sigma^{01} = - \\sigma^{10}$\n",
    "\n",
    "$\\gamma^0 = -i \\M{0 & I \\\\ I & 0}$, $\\gamma^i = -i \\M{0 & \\sigma_i \\\\ -\\sigma_i & 0}$\n",
    "\n",
    "(These are $4\\times4$ matrices written as $2\\times 2$)\n",
    "\n",
    "$\\left( \\gamma^0 \\right)^2 = -1$\n",
    "\n",
    "$\\left( \\gamma^i \\right)^2 = 1$\n",
    "\n",
    "$\\gamma^\\mu \\gamma^\\nu + \\gamma^\\nu \\gamma^\\mu = 0$ if $\\mu \\neq \\nu$\n",
    "\n",
    "$\\Rightarrow \\gamma^\\mu \\gamma^\\nu = - \\gamma^\\nu \\gamma^\\mu$\n",
    "\n",
    "\n",
    "In 3D:\n",
    "\n",
    "$SO(3) \\times SU(2)$: $\\tilde \\chi^\\dagger \\chi = $ invariant for $\\tilde \\chi = \\chi$\n",
    "\n",
    "In 4D:\n",
    "\n",
    "$SU(2) \\times SU(2)$:  $\\tilde \\psi^\\dagger \\psi = $ invariant for $\\tilde \\psi = i \\gamma^0 \\psi$\n",
    "\n",
    "$\\left( i \\gamma^0 \\psi \\right)^\\dagger \\psi = i \\psi^\\dagger \\gamma^0 \\psi \\rightarrow i \\left( \\psi' \\right)^\\dagger \\gamma^0 \\psi'$\n",
    "\n",
    "$=i \\left( e^{\\frac{i}{4} \\sigma^{\\mu\\nu} \\omega_{\\mu\\nu}} \\psi\\right)^\\dagger \\gamma^0 e^{\\frac{i}{4} \\sigma^{\\mu\\nu} \\omega_{\\mu\\nu}}$\n",
    "\n",
    "$=i \\psi^\\dagger \\left( e^{\\frac{i}{4} \\sigma^{\\mu\\nu} \\omega_{\\mu\\nu}}\\right)^\\dagger \\gamma^0 e^{\\frac{i}{4} \\sigma^{\\mu\\nu} \\omega_{\\mu\\nu}}$\n",
    "\n",
    "(to prove: $\\left( e^{\\frac{i}{4} \\sigma^{\\mu\\nu} \\omega_{\\mu\\nu}} \\right)^\\dagger \\gamma^0 = \\gamma^0  e^{-\\frac{i}{4} \\sigma^{\\mu\\nu} \\omega_{\\mu\\nu}}$ )\n",
    "\n",
    "$=i \\psi^\\dagger \\gamma^0 \\psi$\n",
    "\n",
    "# Topic 9: Spinors III, Actions Principles and Free Lagrangians\n",
    "\n",
    "We introduced the $\\gamma$ matrices to figure out how the Lorentz transformations act on a spinor.\n",
    "Commutators of the $\\gamma$ matrices act as generators building up transformations as they act on spinors.\n",
    "\n",
    "How do the $\\gamma^\\mu$ transform?\n",
    "\n",
    "$\\gamma$ is a matrix in spin space, but in space-time it only has one index.\n",
    "\n",
    "$\\psi^a \\rightarrow \\psi^{a'} = S[\\Lambda]^{a'}_{\\:\\:a} \\psi^a$\n",
    "\n",
    "$S[\\Lambda]^{a'}_{\\:\\:a}= e^{\\frac14 \\sigma^{\\mu\\nu}\\omega_{\\mu\\nu}}$\n",
    "\n",
    "We're writing the $\\Lambda$'s in brackets to keep in mind that the $S$'s correspond to rotations in space and\n",
    "use $S$ as a shorthand for the exponential.\n",
    "\n",
    "$S$ is a $4 \\times 4$ matrix.\n",
    "\n",
    "The metric we need to build the dual vectors is $i \\gamma^0$."
   ],
   "metadata": {
    "collapsed": false,
    "pycharm": {
     "name": "#%% md\n"
    }
   }
  },
  {
   "cell_type": "code",
   "execution_count": 17,
   "outputs": [
    {
     "data": {
      "text/latex": "$\\tilde\\psi^\\dagger=\\left(i\\gamma^0\\psi\\right)^\\dagger=\\left(i\\left[\\begin{matrix}0 & 0 & - i & 0\\\\0 & 0 & 0 & - i\\\\- i & 0 & 0 & 0\\\\0 & - i & 0 & 0\\end{matrix}\\right]\\psi\\right)^\\dagger=\\left(\\left[\\begin{matrix}0 & 0 & 1 & 0\\\\0 & 0 & 0 & 1\\\\1 & 0 & 0 & 0\\\\0 & 1 & 0 & 0\\end{matrix}\\right]\\psi\\right)^\\dagger \\equiv \\bar \\psi$"
     },
     "metadata": {},
     "output_type": "display_data"
    }
   ],
   "source": [
    "show(r\"\\tilde\\psi^\\dagger=\\left(i\\gamma^0\\psi\\right)^\\dagger=\\left(i\", gamma__0, r\"\\psi\\right)^\\dagger=\", r\"\\left(\", I * gamma__0, r\"\\psi\\right)^\\dagger \\equiv \\bar \\psi\")"
   ],
   "metadata": {
    "collapsed": false,
    "pycharm": {
     "name": "#%%\n"
    }
   }
  },
  {
   "cell_type": "markdown",
   "source": [
    "$ \\bar \\psi \\psi  = invariant$\n",
    "\n",
    "From here on, an invariant of spinors will be called $\\bar \\psi \\psi$\n",
    "\n",
    "$\\bar \\psi$ transforms like this:\n",
    "\n",
    "$\\bar \\psi_b \\rightarrow \\bar \\psi_{b'} = S[\\Lambda]^b_{\\:\\:b'} \\bar \\psi_b$\n",
    "\n",
    "We're giving this a lower index because it refers to a dual spinor.\n",
    "\n",
    "$\\bar \\psi \\psi \\rightarrow \\bar \\psi' \\psi' = \\bar \\psi_b S[\\Lambda]^{b}_{\\:\\:b'} S[\\Lambda]^{b'}_{\\:\\:a} \\psi^a$\n",
    "\n",
    "$= \\bar \\psi_b \\delta^b_{\\:\\:a} \\psi^a$\n",
    "\n",
    "Turns out, this transformation is the inverse of the one above.\n",
    "\n",
    "# $\\fbox{$\\gamma^{\\mu a}_{\\:\\:\\:\\:b} \\rightarrow \\gamma^{\\mu'a'} = \\Lambda^{\\mu'}_{\\:\\:\\mu} S[\\Lambda]^{a'}_{\\:\\:a} \\gamma^{\\mu a}_{\\:\\:\\:\\:b} S[\\Lambda]^b_{\\:\\:b'}$}$\n",
    "\n",
    "The $\\mu$ index transforms with the $\\Lambda$ matrix, and the $a$'s and $b$'s transform like the spinor transformations above, one for\n",
    "the upper and one for the lower index.\n",
    "\n",
    "For our invariant Lagrangian we could consider something like $\\bar \\psi \\gamma^\\mu \\psi$\n",
    "\n",
    "At the end of the day, we have this transformation rule:\n",
    "\n",
    "$\\bar \\psi \\gamma^\\mu \\psi \\rightarrow \\bar \\psi_{a'}\\gamma^{\\mu'a'}_{\\:\\:\\:\\:b'}\\psi^{b'}$\n",
    "\n",
    "$=\\bar \\psi S[\\Lambda]^{-1} \\Lambda^{\\mu'}_{\\:\\:\\mu}S[\\Lambda]\\gamma^\\mu S[\\Lambda]^{-1}S[\\Lambda]\\psi$\n",
    "\n",
    "$=\\Lambda^{\\mu'}_{\\:\\:\\mu}\\bar\\psi\\gamma^\\mu\\psi$\n",
    "\n",
    "This actually transforms like a vector, because it is a vector.\n",
    "We could combine it with a dual vector to create a scalar.\n",
    "\n",
    "If we're going to deal with invariants henceforth, we are always working with spinor sandwiches.\n",
    "\n",
    "The Lagrangian principle is going to be our best friend.\n",
    "\n",
    "$S=\\int L(q,\\dot q)\\dt \\Rightarrow \\partial S=0$ with boundary conditions $\\Rightarrow \\frac{\\partial L}{\\partial q} - \\ddt\\frac{\\partial L}{\\partial q'}$\n",
    "\n",
    "(Euler-Lagrange equations)\n",
    "\n",
    "We can turn time into space-time, and a point particle into a field.\n",
    "\n",
    "Non relativistic $\\rightarrow$ Special Relativity\n",
    "\n",
    "$\\int \\dt \\rightarrow \\int \\mathrm d^{4_X}$\n",
    "\n",
    "point particle $\\rightarrow$ field\n",
    "\n",
    "$q(t) \\rightarrow \\Phi(X^\\mu)$\n",
    "\n",
    "Classical Mechanics $\\rightarrow$ Quantum Mechanics\n",
    "\n",
    "$\\partial S = 0 \\rightarrow \\int D\\phi e^{\\frac{1}{t}S}$ (Path Integral)\n",
    "\n",
    "$S$ is a functional\n",
    "\n",
    "functional: $S[f(x)] = \\int_0^1 f(x)\\dx$\n",
    "\n",
    "$S=\\int \\Lagr(\\Phi,\\partial_\\mu \\Phi) \\mathrm d^{4_X}$\n",
    "\n",
    "Consider $\\Phi(X^\\mu)$ and a region of space-time $M$ with a boundary $\\delta M$ and boundary conditions $\\Phi(X^\\mu|_{\\delta M})$\n",
    "\n",
    "Given those boundary conditions - how does the space-time look everywhere else?\n",
    "\n",
    "Deform to $\\Phi'(X^\\mu) = \\Phi(X^\\mu) + \\delta \\Phi(X^\\mu) \\Rightarrow \\Phi'(X^\\mu|_{\\delta M})=\\Phi(X^\\mu|_{\\delta M})$\n",
    "\n",
    "This imposes that the $\\delta$'s have to vanish at the boundaries.\n",
    "\n",
    "$\\delta \\Phi(X^\\mu|_{\\delta M}) = 0$\n",
    "\n",
    "\n",
    "$\\delta S = \\int \\delta \\Lagr \\mathrm d^{4_X}$\n",
    "\n",
    "We can break up the contributions of the Lagrangian by the contributions of $\\Phi$ and $\\delta_\\mu \\Phi$ as follows:\n",
    "\n"
   ],
   "metadata": {
    "collapsed": false,
    "pycharm": {
     "name": "#%% md\n"
    }
   }
  }
 ],
 "metadata": {
  "kernelspec": {
   "display_name": "Python 3",
   "language": "python",
   "name": "python3"
  },
  "language_info": {
   "codemirror_mode": {
    "name": "ipython",
    "version": 3
   },
   "file_extension": ".py",
   "mimetype": "text/x-python",
   "name": "python",
   "nbconvert_exporter": "python",
   "pygments_lexer": "ipython3",
   "version": "3.7.2"
  }
 },
 "nbformat": 4,
 "nbformat_minor": 2
}