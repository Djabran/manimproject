{
 "cells": [
  {
   "cell_type": "code",
   "execution_count": 10,
   "metadata": {
    "pycharm": {
     "name": "#%%\n"
    }
   },
   "outputs": [
    {
     "data": {
      "text/html": "<button onclick=\"jQuery('.input').toggle(); \">Toggle input</button>"
     },
     "metadata": {},
     "output_type": "display_data"
    },
    {
     "data": {
      "text/html": "\n    <script>\n    \n    jQuery(function() {\n        jQuery(\".input\").toggle();\n        });\n    \n    </script>"
     },
     "metadata": {},
     "output_type": "display_data"
    }
   ],
   "source": [
    "from jupytertools import *\n",
    "display_toggle_code_button()\n",
    "\n",
    "toggle_code()"
   ]
  },
  {
   "cell_type": "markdown",
   "metadata": {
    "collapsed": true,
    "pycharm": {
     "name": "#%% md\n"
    }
   },
   "source": [
    "# Bayes Theorem\n",
    "\n",
    "## $P(H\\mid E) = \\frac{P(E \\mid H) \\cdot P(H)}{P(E)} = \\frac{P(E \\mid H) \\cdot P(H)} {P(H) \\cdot P(E \\mid H)\\: + \\:P(\\lnot H) \\cdot P(E \\mid \\lnot H)}$\n",
    "\n",
    "A disease affects $0.1 \\%$ of the population. The test has an accuracy of $99 \\%$ meaning that it will correctly identify the people who have the disease in $99 \\%$ of cases\n",
    "and only incorrectly give a false positive in $1 \\%$ of cases.\n",
    "\n",
    "What are the chances that you actually have the disease if you test positive?\n",
    "\n",
    "The event $E$ is the test giving a positive result. The hypthesis $H$ is that you actually have the disease.\n",
    "The prior probability $P(H)$ is the chance that the hypthesis is true before you were given the test results,\n",
    "which is $0.001$ in our example.\n",
    "The probability that you get a positive test result if you have the disease, is $P(E \\mid H)$, which is $0.99$ here.\n",
    "The total probability of the event occurring is $P(E)$, which is the sum of the probability of having the disease and being tested positive plus the probability of not\n",
    "having the disease and being falsely identified: $P(H) \\cdot P(E \\mid H)\\: + \\:P(\\lnot H) \\cdot P(E \\mid \\lnot H)$\n",
    "\n",
    "The probability that the hypthesis is true, in the event of a positive test result, is $P(H \\mid E)$, which is what we\n",
    "want to know.\n",
    "\n",
    "Putting in the numbers gives\n",
    "## $P(H \\mid E) = \\frac{0.99 \\cdot 0.001}{0.001 \\cdot 0.99 + 0.999 \\cdot 0.01} \\approx 9 \\%$\n",
    "\n",
    "Now what if we get a second positive test independently from another lab?\n",
    "\n",
    "In this case we'd have to put the $9 \\%$ in as the new prior probability.\n",
    "The new result would then be $\\approx 91 \\%$\n"
   ]
  },
  {
   "cell_type": "code",
   "execution_count": 11,
   "metadata": {
    "pycharm": {
     "name": "#%%\n"
    }
   },
   "outputs": [
    {
     "name": "stderr",
     "output_type": "stream",
     "text": [
      "<ipython-input-11-a9aa5e5aa23e>:30: UserWarning: FixedFormatter should only be used together with FixedLocator\n",
      "  ax1.set_xticklabels(list(\"*1 2 3 4 5\"))\n",
      "<ipython-input-11-a9aa5e5aa23e>:31: UserWarning: FixedFormatter should only be used together with FixedLocator\n",
      "  ax1.set_yticklabels([f\"{2*y}0%\" for y in range(6)])\n"
     ]
    },
    {
     "data": {
      "text/plain": "<Figure size 432x288 with 1 Axes>",
      "image/png": "[encoded data removed]"
     },
     "metadata": {
      "needs_background": "light"
     },
     "output_type": "display_data"
    },
    {
     "data": {
      "text/latex": "$\\left[ 9.01639344262294, \\  90.75, \\  99.897147940179, \\  99.9989600314801, \\  99.9999894951593\\right]$"
     },
     "metadata": {},
     "output_type": "display_data"
    }
   ],
   "source": [
    "# P_H = 0.001dfcb\n",
    "\n",
    "def bayes(_P_H=0.001, _P_E_given_H=0.99):\n",
    "    P_not_H = 1 - _P_H\n",
    "    P_E_not_given_H = 1 - _P_E_given_H\n",
    "    P_E = _P_H * _P_E_given_H + P_not_H * P_E_not_given_H\n",
    "    _P = (_P_E_given_H * _P_H) / P_E\n",
    "    return _P\n",
    "\n",
    "import numpy as np\n",
    "import sympy\n",
    "from sympy.abc import x, y, theta, phi, alpha\n",
    "from matplotlib import pyplot as plt\n",
    "\n",
    "data = []\n",
    "P_H = 0.001\n",
    "P_E_given_H = 0.99\n",
    "N = 5\n",
    "\n",
    "for i in range(N):\n",
    "    P = bayes(P_H, P_E_given_H)\n",
    "    data.append((i, P))\n",
    "    P_H = P\n",
    "\n",
    "x = np.linspace(0, N - 1, N)\n",
    "y = [y for x, y in data]\n",
    "\n",
    "fig, ax1 = plt.subplots()\n",
    "ax1.set_title(\"P(H)\")\n",
    "ax1.set_xticklabels(list(\"*1 2 3 4 5\"))\n",
    "ax1.set_yticklabels([f\"{2*y}0%\" for y in range(6)])\n",
    "\n",
    "plt.plot(x, y, 'D-')\n",
    "plt.show()\n",
    "\n",
    "show([y*100 for x,y in data])"
   ]
  },
  {
   "cell_type": "code",
   "execution_count": 11,
   "metadata": {
    "pycharm": {
     "name": "#%%"
    }
   },
   "outputs": [],
   "source": []
  }
 ],
 "metadata": {
  "kernelspec": {
   "display_name": "Python 3",
   "language": "python",
   "name": "python3"
  },
  "language_info": {
   "codemirror_mode": {
    "name": "ipython",
    "version": 3
   },
   "file_extension": ".py",
   "mimetype": "text/x-python",
   "name": "python",
   "nbconvert_exporter": "python",
   "pygments_lexer": "ipython3",
   "version": "3.7.2"
  }
 },
 "nbformat": 4,
 "nbformat_minor": 1
}