{
 "cells": [
  {
   "cell_type": "code",
   "execution_count": 16,
   "metadata": {
    "collapsed": true
   },
   "outputs": [
    {
     "data": {
      "text/latex": "$A{}_{\\mu}{}^{\\nu\\rho}$"
     },
     "metadata": {},
     "output_type": "display_data"
    }
   ],
   "source": [
    "from jupytertools import *\n",
    "from sympy import *\n",
    "from sympy.tensor.tensor import TensorIndex, TensorHead, TensorIndexType, tensor_indices\n",
    "\n",
    "Lorentz = TensorIndexType('Lorentz', dummy_name='L')\n",
    "mu = TensorIndex('mu', Lorentz, is_up=False)\n",
    "nu, rho = tensor_indices('nu, rho', Lorentz)\n",
    "A = TensorHead('A',[Lorentz,Lorentz,Lorentz])\n",
    "show(A(mu,nu,rho))\n"
   ]
  }
 ],
 "metadata": {
  "kernelspec": {
   "display_name": "Python 3",
   "language": "python",
   "name": "python3"
  },
  "language_info": {
   "codemirror_mode": {
    "name": "ipython",
    "version": 2
   },
   "file_extension": ".py",
   "mimetype": "text/x-python",
   "name": "python",
   "nbconvert_exporter": "python",
   "pygments_lexer": "ipython2",
   "version": "2.7.6"
  }
 },
 "nbformat": 4,
 "nbformat_minor": 0
}