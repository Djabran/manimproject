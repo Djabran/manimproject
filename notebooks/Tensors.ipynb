{
 "cells": [
  {
   "cell_type": "code",
   "execution_count": 1,
   "metadata": {
    "collapsed": true
   },
   "outputs": [
    {
     "data": {
      "text/latex": "$A{}_{\\mu}{}^{\\nu\\rho}$"
     },
     "metadata": {},
     "output_type": "display_data"
    },
    {
     "data": {
      "text/latex": "$V{}_{\\mu}$"
     },
     "metadata": {},
     "output_type": "display_data"
    },
    {
     "data": {
      "text/latex": "$T{}^{\\mu\\nu}$"
     },
     "metadata": {},
     "output_type": "display_data"
    },
    {
     "data": {
      "text/latex": "$V{}_{\\mu}T{}^{\\mu\\nu}=V{}_{dummy_{0}}T{}^{dummy_{0}\\nu}$"
     },
     "metadata": {},
     "output_type": "display_data"
    },
    {
     "data": {
      "text/latex": "$metric{}^{\\mu\\nu}$"
     },
     "metadata": {},
     "output_type": "display_data"
    },
    {
     "data": {
      "text/latex": "${a}_{0}$"
     },
     "metadata": {},
     "output_type": "display_data"
    }
   ],
   "source": [
    "from jupytertools import *\n",
    "from sympy import *\n",
    "from sympy.tensor.tensor import TensorIndex, TensorHead, TensorIndexType, tensor_indices\n",
    "\n",
    "Lorentz = TensorIndexType('Lorentz', dummy_name='L')\n",
    "mu = TensorIndex('mu', Lorentz, is_up=False)\n",
    "nu, rho = tensor_indices('nu, rho', Lorentz)\n",
    "A = TensorHead('A',[Lorentz,Lorentz,Lorentz])\n",
    "show(A(mu,nu,rho))\n",
    "\n",
    "\n",
    "\n",
    "Lorentz = TensorIndexType(\"Lorentz\", dummy_name='dummy')\n",
    "mu, nu = tensor_indices(\"mu, nu\",Lorentz)\n",
    "V = TensorHead(\"V\", [Lorentz])\n",
    "V = V(-mu)\n",
    "show(V)\n",
    "T = TensorHead(\"T\", [Lorentz,Lorentz])\n",
    "T = T(mu,nu)\n",
    "show(T)\n",
    "show(V, T, \"=\", (V * T))\n",
    "show(Lorentz.metric(mu,nu))\n",
    "a = IndexedBase('a')\n",
    "show(a[0])\n",
    "\n"
   ]
  }
 ],
 "metadata": {
  "kernelspec": {
   "display_name": "Python 3",
   "language": "python",
   "name": "python3"
  },
  "language_info": {
   "codemirror_mode": {
    "name": "ipython",
    "version": 2
   },
   "file_extension": ".py",
   "mimetype": "text/x-python",
   "name": "python",
   "nbconvert_exporter": "python",
   "pygments_lexer": "ipython2",
   "version": "2.7.6"
  }
 },
 "nbformat": 4,
 "nbformat_minor": 0
}